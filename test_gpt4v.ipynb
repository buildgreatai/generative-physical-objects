{
 "cells": [
  {
   "cell_type": "code",
   "execution_count": 1,
   "metadata": {},
   "outputs": [
    {
     "ename": "AttributeError",
     "evalue": "module 'openai' has no attribute 'ChatCompletion'",
     "output_type": "error",
     "traceback": [
      "\u001b[0;31m---------------------------------------------------------------------------\u001b[0m",
      "\u001b[0;31mAttributeError\u001b[0m                            Traceback (most recent call last)",
      "\u001b[0;32m/var/folders/jh/15wl3ppn72x9f8py4l62d4980000gn/T/ipykernel_96307/3317753054.py\u001b[0m in \u001b[0;36m<module>\u001b[0;34m\u001b[0m\n\u001b[1;32m     62\u001b[0m \u001b[0mmessages\u001b[0m \u001b[0;34m=\u001b[0m \u001b[0;34m[\u001b[0m\u001b[0;34m{\u001b[0m\u001b[0;34m'role'\u001b[0m\u001b[0;34m:\u001b[0m \u001b[0;34m'user'\u001b[0m\u001b[0;34m,\u001b[0m \u001b[0;34m'content'\u001b[0m\u001b[0;34m:\u001b[0m \u001b[0mfirst_message\u001b[0m\u001b[0;34m}\u001b[0m\u001b[0;34m]\u001b[0m\u001b[0;34m\u001b[0m\u001b[0;34m\u001b[0m\u001b[0m\n\u001b[1;32m     63\u001b[0m \u001b[0;32mfor\u001b[0m \u001b[0mi\u001b[0m \u001b[0;32min\u001b[0m \u001b[0mrange\u001b[0m\u001b[0;34m(\u001b[0m\u001b[0;36m15\u001b[0m\u001b[0;34m)\u001b[0m\u001b[0;34m:\u001b[0m\u001b[0;34m\u001b[0m\u001b[0;34m\u001b[0m\u001b[0m\n\u001b[0;32m---> 64\u001b[0;31m     \u001b[0mapi_response\u001b[0m \u001b[0;34m=\u001b[0m \u001b[0mmake_api_call\u001b[0m\u001b[0;34m(\u001b[0m\u001b[0mmessages\u001b[0m\u001b[0;34m)\u001b[0m\u001b[0;34m\u001b[0m\u001b[0;34m\u001b[0m\u001b[0m\n\u001b[0m\u001b[1;32m     65\u001b[0m     \u001b[0mregex\u001b[0m \u001b[0;34m=\u001b[0m \u001b[0mpull_regex_from_response\u001b[0m\u001b[0;34m(\u001b[0m\u001b[0mapi_response\u001b[0m\u001b[0;34m)\u001b[0m\u001b[0;34m\u001b[0m\u001b[0;34m\u001b[0m\u001b[0m\n\u001b[1;32m     66\u001b[0m     \u001b[0mgood_match\u001b[0m\u001b[0;34m,\u001b[0m \u001b[0mbad_match\u001b[0m \u001b[0;34m=\u001b[0m \u001b[0mevaluate_regex\u001b[0m\u001b[0;34m(\u001b[0m\u001b[0mregex\u001b[0m\u001b[0;34m)\u001b[0m\u001b[0;34m\u001b[0m\u001b[0;34m\u001b[0m\u001b[0m\n",
      "\u001b[0;32m/var/folders/jh/15wl3ppn72x9f8py4l62d4980000gn/T/ipykernel_96307/3317753054.py\u001b[0m in \u001b[0;36mmake_api_call\u001b[0;34m(messages)\u001b[0m\n\u001b[1;32m     55\u001b[0m \u001b[0;34m\u001b[0m\u001b[0m\n\u001b[1;32m     56\u001b[0m \u001b[0;32mdef\u001b[0m \u001b[0mmake_api_call\u001b[0m\u001b[0;34m(\u001b[0m\u001b[0mmessages\u001b[0m\u001b[0;34m)\u001b[0m\u001b[0;34m:\u001b[0m\u001b[0;34m\u001b[0m\u001b[0;34m\u001b[0m\u001b[0m\n\u001b[0;32m---> 57\u001b[0;31m    response = openai.ChatCompletion.create(model=\"gpt-4\",\n\u001b[0m\u001b[1;32m     58\u001b[0m                                            \u001b[0mmessages\u001b[0m\u001b[0;34m=\u001b[0m\u001b[0mmessages\u001b[0m\u001b[0;34m\u001b[0m\u001b[0;34m\u001b[0m\u001b[0m\n\u001b[1;32m     59\u001b[0m                                            )\n",
      "\u001b[0;31mAttributeError\u001b[0m: module 'openai' has no attribute 'ChatCompletion'"
     ]
    }
   ],
   "source": [
    "import random\n",
    "import string\n",
    "import re\n",
    "from time import sleep\n",
    "import os\n",
    "import openai\n",
    "\n",
    "def make_random_string():\n",
    "    length = random.randint(1, 30)\n",
    "    random_string = ''.join(random.choices(string.ascii_letters + string.digits, k=length))\n",
    "    return random_string\n",
    "\n",
    "test_bank_size = 20\n",
    "\n",
    "# should_contain_strings = [make_random_string() for _ in range(test_bank_size)]\n",
    "# non_contain_strings = [make_random_string() for _ in range(test_bank_size)]\n",
    "\n",
    "random_strings = [make_random_string() for _ in range(test_bank_size)]\n",
    "should_contain_strings = [s for s in random_strings if 'i' in s]\n",
    "non_contain_strings = [s for s in random_strings if 'i' not in s]\n",
    "\n",
    "\n",
    "first_message = \"\"\"\n",
    "Your job is to write a regular expression. I will evaluate your regular expression against two lists of strings (which I am not sharing).\n",
    "\n",
    "The first list of strings is the list we want the regex to match. The second list is the list we want not to match.\n",
    "\n",
    "When you supply a regex, I will evaluate it against both lists and tell you how many of each list it matched.\n",
    "\n",
    "Then your job will be to try again with another regular expression to see if you can get a better score (ideally improving this with experimentation).\n",
    "\n",
    "Please reply with only the regex you want me to test.\n",
    "\"\"\"\n",
    "\n",
    "def pull_regex_from_response(res):\n",
    "    regex = res.choices[0].message.content\n",
    "    return regex\n",
    "\n",
    "def evaluate_regex(regex):\n",
    "    should_contain_matches = [s for s in should_contain_strings if re.search(regex, s)]\n",
    "    non_contain_matches = [s for s in non_contain_strings if re.search(regex, s)]\n",
    "    return len(should_contain_matches), len(non_contain_matches)\n",
    "\n",
    "def next_user_message(good_match, bad_match):\n",
    "    out = f\"\"\"This regex correctly matched {good_match} of the {test_bank_size} strings it should match.\n",
    "It also incorrectly matched {bad_match} of the {test_bank_size} strings it should not match.\n",
    "\n",
    "The numerical score for this regex is {good_match - bad_match}.\n",
    "\n",
    "Please reply with the regex you want me to test next (and no other text).\"\"\"\n",
    "    return out\n",
    "\n",
    "\n",
    "openai.api_key = os.getenv(\"OPENAI_API_KEY\")\n",
    "\n",
    "def make_api_call(messages):\n",
    "   response = openai.ChatCompletion.create(model=\"gpt-4\",\n",
    "                                           messages=messages\n",
    "                                           )\n",
    "   return response\n",
    "\n",
    "messages = [{'role': 'user', 'content': first_message}]\n",
    "for i in range(15):\n",
    "    api_response = make_api_call(messages)\n",
    "    regex = pull_regex_from_response(api_response)\n",
    "    good_match, bad_match = evaluate_regex(regex)\n",
    "    messages.append({'role': 'assistant', 'content': regex})\n",
    "    messages.append({'role': 'user', 'content': next_user_message(good_match, bad_match)})\n",
    "    print(f\"Regex: {regex}    Score: {good_match - bad_match}\")\n",
    "    sleep(2)\n"
   ]
  },
  {
   "cell_type": "code",
   "execution_count": null,
   "metadata": {},
   "outputs": [],
   "source": []
  }
 ],
 "metadata": {
  "kernelspec": {
   "display_name": "base",
   "language": "python",
   "name": "python3"
  },
  "language_info": {
   "codemirror_mode": {
    "name": "ipython",
    "version": 3
   },
   "file_extension": ".py",
   "mimetype": "text/x-python",
   "name": "python",
   "nbconvert_exporter": "python",
   "pygments_lexer": "ipython3",
   "version": "3.9.13"
  }
 },
 "nbformat": 4,
 "nbformat_minor": 2
}
